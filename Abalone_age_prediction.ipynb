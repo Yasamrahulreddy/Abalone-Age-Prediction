{
 "cells": [
  {
   "cell_type": "markdown",
   "metadata": {},
   "source": [
    "## Abalone Age Prediction\n",
    "\n",
    "Rahul Reddy Yasam"
   ]
  },
  {
   "cell_type": "markdown",
   "metadata": {},
   "source": [
    "Jogendra Aniruddh Ayatha"
   ]
  },
  {
   "cell_type": "markdown",
   "metadata": {},
   "source": [
    "Anvitha Swamy"
   ]
  },
  {
   "cell_type": "markdown",
   "metadata": {},
   "source": [
    "Rishabh Singh"
   ]
  },
  {
   "cell_type": "markdown",
   "metadata": {},
   "source": [
    "### Abstract:\n",
    "Ear-shells or sea ears are the common name for abalones which are marine gastropod mollusks distributed around the globe. Normally, the determination of age in abalones requires a tedious procedure of cutting out a shell sample, then stain it under microscope whereby one can count the rings within shell layers. Age determination in abalone is tedious and this research work uses machine learning algorithms on the body measurements dataset. This aims at predicting the age-range of abalone shells from their morphological indices treating it as a regression task. This research proposes to explore different regression models that provide better and cheaper ways than the expensive and invasive traditional method of estimating abalone age. The expected results expect to develop a dependable predictive model based on shell geometrical parameters in order to significantly slash expenses and simplify this procedure."
   ]
  },
  {
   "cell_type": "markdown",
   "metadata": {},
   "source": [
    "### Introduction:\n",
    "\n",
    "\r\n",
    "Abalone is very much sought after as food around the world and can be also called a valuable source of iron and pantothenic acid. A large amount of minerals and vitamins are contained in this aquatic organi.s. The market price of abalone depends on its age which is an important feature for abalone farmers and buyers as well. Nevertheless, the conventional age determination techniques for abalones involve shell cutting and subsequent ring counting with a microscope that are very challenging. However, abalone age is hard to estimate because of other influences apart from just age like food availability and inter-populations’ variances in growth rates. Despite that this is a complex and expensive strategy, it poses the need of finding an easier way or other approache\n",
    "\n",
    "Machine learning algorithms identify trends and generate predictions by using observational data. The process of regression within a dataset is quite complicated whereby each sample is assigned a class label but this is even worse in large datasets or those with extensive features.s.\r\n",
    "\r\n",
    "The goal of this report is to highlight a set of indications which precisely predict ring and, consequently, age in abalones. Shell sample preparation is generally needed in traditional abalone age determination that involves “rings” counting through microscopes. The regression problem that we use as a case study is based on a dataset from the University of California Irvine Machine Learning Repository with abalone physical characteristics and age data. This paper aims at determining the correlation between morphological characteristics and life age of abalone. A number of these regression approaches will be compared and the best predictive technique will be seen as superior."
   ]
  },
  {
   "cell_type": "markdown",
   "metadata": {},
   "source": [
    "### Literature Review:\n",
    "\n",
    "This research intends to examine non-invasive, less costly, and potentially more accurate age determination methods for Abalones. The intended result seeks to achieve a reliable predictive approach which relies on the use of some shell geometrical parameters that are much efficient in cost-saving and age estimation (1).\r\n",
    "\r\n",
    "Abalones may be considered valuable since it is both delicious when eaten and full of nutrition, including iron and pantothenic acid, from an ecological point of view. This is an indication that market valuation of abalones has a strong correlation to age as it pertains to both the abalone fme]er. Nevertheless, the traditional ways of finding out their abalone age are limited and not that reliable, such as microscopically cut rings along with some other indicators in shells they fo (2)rm.\r\n",
    "\r\n",
    "Nevertheless, for a variety of reasons, including variation in feeding success rates as well as different growth patterns among different populations, estimating abalone age still presents challenges. While traditional approaches are complex and expensive, a strong urge to look for more sensible and unconventional alternatives is finate (3)]f t.\r\n",
    "\r\n",
    "This report seeks out parameters that are highly precise for making rings and consequently inferring the age of abalones. In the conventional case, abalone age determination requires careful shell sample preparation and sophisticated ring co (4)o\n",
    "cope. This paper intends to show that there exists a linkage between abalone’s physical traits and length of life by using Regression Problem with UC Irvine machine learning Repository data including weight, shell height, etc. Several regression techniques will be evaluated in this study and the best predictive identification (5).# \n",
    "#### Research Question\n",
    "1. How can the age of abalones be accurately predicted using machine learning algorithms based on their physical characteristics:\n",
    "\n",
    "#### References:\n",
    "\n",
    "[1] Li Chen and John Ryan, \"Abalone in Diasporic Chinese Culture: The Transformation of Biocultural Traditions through Engagement with the Western Australian Environment\", Heritage, vol. 1, no. 1, pp. 122-41, 2018\n",
    "\n",
    "[2] Hiran. Mayukh, M. Hossain and N. M. Chowdhurry, \"Econometrics Ways to Estimate the Age and Price of Abalone\", Age of Abalones Using Physical Characteristics: A Classification Problem, no. Ml, pp. 1-4, 2010.\n",
    "\n",
    "[3] Mobarak Hossain and Niaz Murshed Chowdhury, Econometric Ways to Estimate the Age and Price of Abalone, no. 7068,\n",
    " 2008.\r\n",
    "[4] Jiaxu Dong et al., \"Abalone Muscle Texture Evaluation and Prediction Based on TPA Experiment\", Journal of Food Quality, vol. 2017, 2017.\n",
    "\n",
    "[5] Dheeru Dua and Casey Graff, \"UCI Machine Learning Repository\", Archive.Ics.Uci.Edu, 2017, [online] Available: https://archive.ics.uci.edu/ml/citation_policy.html.ified.\n",
    "\n"
   ]
  },
  {
   "cell_type": "code",
   "execution_count": null,
   "metadata": {
    "id": "Va1Fw9wnQwtN"
   },
   "outputs": [],
   "source": [
    "# Import necessary libraries\n",
    "import matplotlib.pyplot as plt\n",
    "import pandas as pd\n",
    "import numpy as np\n",
    "from sklearn.model_selection import train_test_split\n",
    "from sklearn.preprocessing import StandardScaler\n",
    "from sklearn.neighbors import KNeighborsRegressor\n",
    "from sklearn.metrics import mean_absolute_error, mean_squared_error, r2_score\n",
    "%matplotlib inline"
   ]
  },
  {
   "cell_type": "code",
   "execution_count": null,
   "metadata": {
    "id": "ouq71B7nS_0m"
   },
   "outputs": [],
   "source": [
    "# Load the dataset\n",
    "df=pd.read_csv('abalone.csv')"
   ]
  },
  {
   "cell_type": "markdown",
   "metadata": {},
   "source": [
    "### Data Collection/Cleaning/Processing/Description :\n",
    "We are collecting the data from Kaggle. The link to the dataset is https://www.kaggle.com/code/ashokkumarpalivela/abalone-age-prediction/input\n",
    "\n",
    "The dataset comprises important data concerning abalones with regard to a number of body parts as well as years old. These attributes are important in regression tasks where they will be used to predict abalone’s approximate or actual age based on its physical characteristics."
   ]
  },
  {
   "cell_type": "code",
   "execution_count": null,
   "metadata": {
    "colab": {
     "base_uri": "https://localhost:8080/",
     "height": 363
    },
    "id": "oFTf4TpMTA_U",
    "outputId": "a282a03b-e026-4f63-c494-985ebbd8c227"
   },
   "outputs": [],
   "source": [
    "df.head(10)"
   ]
  },
  {
   "cell_type": "code",
   "execution_count": null,
   "metadata": {
    "colab": {
     "base_uri": "https://localhost:8080/"
    },
    "id": "N6YalCK-TB93",
    "outputId": "48615997-87cb-4caf-91bc-04e46777055f"
   },
   "outputs": [],
   "source": [
    "df.columns"
   ]
  },
  {
   "cell_type": "code",
   "execution_count": null,
   "metadata": {
    "colab": {
     "base_uri": "https://localhost:8080/"
    },
    "id": "rJimraGnVm0F",
    "outputId": "beb53a95-2a8a-43d1-eb34-0231af3844a0"
   },
   "outputs": [],
   "source": [
    "df.info()"
   ]
  },
  {
   "cell_type": "code",
   "execution_count": null,
   "metadata": {
    "colab": {
     "base_uri": "https://localhost:8080/"
    },
    "id": "TZhvL_PLV5Te",
    "outputId": "aec69bda-a2de-4fa7-852b-12be39ae1f28"
   },
   "outputs": [],
   "source": [
    "df.apply(lambda x:sum(x.isnull()),axis=0)"
   ]
  },
  {
   "cell_type": "code",
   "execution_count": null,
   "metadata": {
    "colab": {
     "base_uri": "https://localhost:8080/",
     "height": 363
    },
    "id": "EvyFKK6eW5ET",
    "outputId": "1021d2e6-52d1-4916-9a48-cb730f7ef6b7"
   },
   "outputs": [],
   "source": [
    "# Calculate 'Age' based on 'Class_number_of_rings' as age determination\n",
    "df['Age'] = df['Class_number_of_rings'] + 1.5\n",
    "df.head(10)"
   ]
  },
  {
   "cell_type": "code",
   "execution_count": null,
   "metadata": {
    "colab": {
     "base_uri": "https://localhost:8080/",
     "height": 300
    },
    "id": "PMjqncTCbQ69",
    "outputId": "5a0bf189-09c6-42e2-a556-f832e6f05f7c"
   },
   "outputs": [],
   "source": [
    "df.drop('Class_number_of_rings', axis=1, inplace=True)\n",
    "df.describe()"
   ]
  },
  {
   "cell_type": "code",
   "execution_count": null,
   "metadata": {
    "colab": {
     "base_uri": "https://localhost:8080/",
     "height": 175
    },
    "id": "GXPQVjBevKBI",
    "outputId": "5d35415c-f458-4dff-9bca-93baf2d2c093"
   },
   "outputs": [],
   "source": [
    "# Encode categorical data in 'Sex' column\n",
    "df.pivot_table(df,index=['Sex'])"
   ]
  },
  {
   "cell_type": "markdown",
   "metadata": {},
   "source": [
    "### Data Visualization:"
   ]
  },
  {
   "cell_type": "code",
   "execution_count": null,
   "metadata": {
    "colab": {
     "base_uri": "https://localhost:8080/",
     "height": 447
    },
    "id": "kODk_FBuaraQ",
    "outputId": "95c3082f-d610-4c5d-a998-8f4961829356"
   },
   "outputs": [],
   "source": [
    "df['Age'].hist(bins=10)"
   ]
  },
  {
   "cell_type": "code",
   "execution_count": null,
   "metadata": {
    "colab": {
     "base_uri": "https://localhost:8080/",
     "height": 568
    },
    "id": "Egrt-BgMb2fd",
    "outputId": "6cdfdc42-5678-4797-c431-221587b1456d"
   },
   "outputs": [],
   "source": [
    "# Generate correlation matrix\n",
    "import seaborn as sns\n",
    "df_num = df.drop('Sex', axis=1)\n",
    "corr = df_num.corr()\n",
    "\n",
    "# Plot heatmap for visualization\n",
    "sns.heatmap(corr, annot=True)\n",
    "plt.title(\"Abalone Correlation\")"
   ]
  },
  {
   "cell_type": "markdown",
   "metadata": {},
   "source": [
    "### Correlation Analysis"
   ]
  },
  {
   "cell_type": "code",
   "execution_count": null,
   "metadata": {
    "colab": {
     "base_uri": "https://localhost:8080/"
    },
    "id": "VwXyILXZhQnZ",
    "outputId": "0cd23131-9784-4325-d0db-bfc6abd25a06"
   },
   "outputs": [],
   "source": [
    "# Generated and displayed a correlation matrix for numerical columns after removing the 'Sex' column, providing insights into the relationships between variables in the DataFrame.\n",
    "from tabulate import tabulate\n",
    "df_num = df.drop('Sex', axis=1)\n",
    "corr = df_num.corr()\n",
    "print(tabulate(corr, headers='keys', tablefmt='fancy_grid'))\n"
   ]
  },
  {
   "cell_type": "code",
   "execution_count": null,
   "metadata": {},
   "outputs": [],
   "source": [
    "df_num.corr() #correalation analysis"
   ]
  },
  {
   "cell_type": "code",
   "execution_count": null,
   "metadata": {},
   "outputs": [],
   "source": [
    "df_num.cov() #covariance"
   ]
  },
  {
   "cell_type": "code",
   "execution_count": null,
   "metadata": {
    "colab": {
     "base_uri": "https://localhost:8080/",
     "height": 1000
    },
    "id": "BjTrO-x0I6AK",
    "outputId": "6d9c2bd6-c209-4f4f-dff8-de3bc40ccaf8"
   },
   "outputs": [],
   "source": [
    "# Visualized pairwise relationships among numerical columns in 'df', distinguishing data by 'Sex' with Seaborn's pairplot.\n",
    "import seaborn as sns\n",
    "import warnings\n",
    "warnings.filterwarnings('ignore')  # Ignore all warnings (use cautiously)\n",
    "\n",
    "sns.pairplot(df,hue='Sex')"
   ]
  },
  {
   "cell_type": "code",
   "execution_count": null,
   "metadata": {
    "colab": {
     "base_uri": "https://localhost:8080/"
    },
    "id": "kWGJMdDCn1gP",
    "outputId": "595e8a13-5170-4814-815d-a206c46cd745"
   },
   "outputs": [],
   "source": [
    "X=df.iloc[:,:-1].values\n",
    "X"
   ]
  },
  {
   "cell_type": "code",
   "execution_count": null,
   "metadata": {
    "colab": {
     "base_uri": "https://localhost:8080/"
    },
    "id": "VlVbWY3VDLtF",
    "outputId": "80fbba4c-c69a-4627-9468-64f65fa3dccc"
   },
   "outputs": [],
   "source": [
    "Y=df.iloc[:,-1].values\n",
    "Y"
   ]
  },
  {
   "cell_type": "code",
   "execution_count": null,
   "metadata": {
    "colab": {
     "base_uri": "https://localhost:8080/"
    },
    "id": "xPDmmN4MDFMc",
    "outputId": "fa98f995-7da8-400d-a071-19b952b7f770"
   },
   "outputs": [],
   "source": [
    "# Used LabelEncoder to transform categorical data in the first column (index 0) of array 'X' into numerical values.\n",
    "from sklearn.preprocessing import LabelEncoder\n",
    "lencode = LabelEncoder()\n",
    "X[:,0] = lencode.fit_transform(X[:,0])\n",
    "X"
   ]
  },
  {
   "cell_type": "code",
   "execution_count": null,
   "metadata": {
    "colab": {
     "base_uri": "https://localhost:8080/"
    },
    "id": "ErYtno5zqG5C",
    "outputId": "7dd15a48-af9f-42ab-aafe-914fac061c42"
   },
   "outputs": [],
   "source": [
    "X=X.astype(float)\n",
    "X"
   ]
  },
  {
   "cell_type": "code",
   "execution_count": null,
   "metadata": {
    "id": "JOtCzsygqhrA"
   },
   "outputs": [],
   "source": [
    "df = df.drop('Sex', axis=1)"
   ]
  },
  {
   "cell_type": "code",
   "execution_count": null,
   "metadata": {
    "id": "G1g_KUdAIg3s"
   },
   "outputs": [],
   "source": [
    "X = df.drop(columns=['Age'])\n",
    "y = df['Age']"
   ]
  },
  {
   "cell_type": "code",
   "execution_count": null,
   "metadata": {
    "id": "a5M48yPXscYz"
   },
   "outputs": [],
   "source": [
    "# Split the dataset into training and testing sets\n",
    "X_train, X_test, y_train, y_test = train_test_split(X, y, test_size=0.2, random_state=42)"
   ]
  },
  {
   "cell_type": "markdown",
   "metadata": {},
   "source": [
    "### Machine Learning Model"
   ]
  },
  {
   "cell_type": "code",
   "execution_count": null,
   "metadata": {
    "id": "HgzReP9J38W-"
   },
   "outputs": [],
   "source": [
    "regressor = KNeighborsRegressor(n_neighbors=29, weights='distance')"
   ]
  },
  {
   "cell_type": "code",
   "execution_count": null,
   "metadata": {
    "colab": {
     "base_uri": "https://localhost:8080/",
     "height": 74
    },
    "id": "F-jLGu-VEecv",
    "outputId": "4734ed84-b24b-4708-af43-ef65f8017862"
   },
   "outputs": [],
   "source": [
    "# Train the regressor model\n",
    "regressor.fit(X_train, y_train)"
   ]
  },
  {
   "cell_type": "code",
   "execution_count": null,
   "metadata": {
    "id": "Zk_whKheEjVq"
   },
   "outputs": [],
   "source": [
    "y_pred = regressor.predict(X_test)"
   ]
  },
  {
   "cell_type": "code",
   "execution_count": null,
   "metadata": {
    "id": "_I10XsctEskJ"
   },
   "outputs": [],
   "source": [
    "# Calculate evaluation metrics - Root Mean Squared Error (RMSE) and R-squared\n",
    "rmse = mean_squared_error(y_test, y_pred, squared=False)\n",
    "r2 = r2_score(y_test, y_pred)\n"
   ]
  },
  {
   "cell_type": "code",
   "execution_count": null,
   "metadata": {
    "colab": {
     "base_uri": "https://localhost:8080/"
    },
    "id": "rMxAnXgwFgfu",
    "outputId": "a12d81fe-c996-4e18-eb37-1703b66caa9a"
   },
   "outputs": [],
   "source": [
    "print('Root Mean Squared Error:', rmse)\n",
    "print('R-squared Score:', r2)"
   ]
  },
  {
   "cell_type": "markdown",
   "metadata": {},
   "source": [
    "### Results and Conclussion:\n",
    "\n",
    "In Conclusion, the project looks at the predictions for abalone age by a series of physical measurement regressions. However, simple strategies such as body size and weight are acceptable for age classifications generally, but may need additional complex techniques in regards to detailed age information. The investigation indicates that some measurements may be combined for effective labelling of albacores with different ages, in relation to sex. Yet, in order to accurately predict differentiated age estimates, it might be imperative to conduct additional studies involving improved regression models. In general, it shows that it may have practical implications for radiometric dating of abalone and suggests further studies for more accurate results."
   ]
  },
  {
   "cell_type": "code",
   "execution_count": null,
   "metadata": {},
   "outputs": [],
   "source": []
  }
 ],
 "metadata": {
  "colab": {
   "provenance": []
  },
  "kernelspec": {
   "display_name": "Python 3 (ipykernel)",
   "language": "python",
   "name": "python3"
  },
  "language_info": {
   "codemirror_mode": {
    "name": "ipython",
    "version": 3
   },
   "file_extension": ".py",
   "mimetype": "text/x-python",
   "name": "python",
   "nbconvert_exporter": "python",
   "pygments_lexer": "ipython3",
   "version": "3.11.4"
  }
 },
 "nbformat": 4,
 "nbformat_minor": 4
}
